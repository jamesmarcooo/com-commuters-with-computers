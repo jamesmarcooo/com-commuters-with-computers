{
 "cells": [
  {
   "cell_type": "code",
   "execution_count": 66,
   "id": "afc11616",
   "metadata": {},
   "outputs": [],
   "source": [
    "## Data Preprocessing\n",
    "\n",
    "import numpy as np\n",
    "import matplotlib.pyplot as plt\n",
    "from collections import defaultdict\n",
    "\n",
    "# Read data_train\n",
    "train_set = np.loadtxt('data_train_oct.csv', skiprows=1, delimiter=',')\n",
    "\n",
    "# Get speed data (kph) for regular, AM peak, PM peak\n",
    "speed_regular = train_set[:,0]\n",
    "speed_AMpeak = train_set[:,3]\n",
    "speed_PMpeak = train_set[:,5]\n",
    "\n",
    "# Get distance data (km) for regular, AM peak, PM peak\n",
    "# x: input parameter\n",
    "dist_regular = train_set[:,2] * 10\n",
    "dist_AMpeak = train_set[:,4] * 10\n",
    "dist_PMpeak = train_set[:,5] * 10\n",
    "\n",
    "# Calculate travel time data (minutes) for regular, AM peak, PM peak\n",
    "# y: ground truth\n",
    "time_regular = dist_regular / speed_regular * 0.1\n",
    "time_AMpeak = dist_AMpeak / speed_AMpeak * 0.1\n",
    "time_PMpeak = dist_PMpeak / speed_PMpeak * 0.1\n",
    "\n",
    "def gkernel(x, x_data, y_data):\n",
    "    b = 50 #bandwidth\n",
    "    xx = x - x_data\n",
    "    K = (1/((np.sqrt(2*np.pi))))*np.exp(-0.5 *(xx/b)**2)\n",
    "    while np.all(K==0):\n",
    "        b = b*10\n",
    "        K = (1/((np.sqrt(2*np.pi))))*np.exp(-0.5 *(xx/b)**2)\n",
    "    Ksum = np.sum(K)\n",
    "    weight = K/Ksum\n",
    "    yk = sum(weight*y_data)\n",
    "    xkyk = np.array([[x], [yk]])\n",
    "    return ykernel, xkyk"
   ]
  },
  {
   "cell_type": "code",
   "execution_count": 37,
   "id": "c6549f7e",
   "metadata": {},
   "outputs": [
    {
     "name": "stdout",
     "output_type": "stream",
     "text": [
      "Distance:  4250.0\n"
     ]
    }
   ],
   "source": [
    "## Preprocess Commuter Input\n",
    "stations = np.loadtxt('data_stations.csv', skiprows=1, delimiter=',')\n",
    "data_dist = stations[:,1]\n",
    "\n",
    "in_start = 0 #Monumento\n",
    "in_stop = 4 #Roosevelt\n",
    "\n",
    "if in_start <= in_stop: #southbound\n",
    "    xesti = np.sum(data_dist[in_start:in_stop]) \n",
    "else: #northbound\n",
    "    xesti = np.sum(data_dist[in_stop:in_start])\n",
    "\n",
    "print(\"Distance: \", xesti)"
   ]
  },
  {
   "cell_type": "code",
   "execution_count": 69,
   "id": "5e30d783",
   "metadata": {
    "scrolled": false
   },
   "outputs": [
    {
     "data": {
      "text/plain": [
       "<function matplotlib.pyplot.show(close=None, block=None)>"
      ]
     },
     "execution_count": 69,
     "metadata": {},
     "output_type": "execute_result"
    },
    {
     "data": {
      "image/png": "[encoded data removed]",
      "text/plain": [
       "<Figure size 640x480 with 1 Axes>"
      ]
     },
     "metadata": {},
     "output_type": "display_data"
    }
   ],
   "source": [
    "## Regular Period\n",
    "\n",
    "kdeEstimateyX = np.arange(0, 30000, 10)\n",
    "ykernel = np.array([[],[]])\n",
    "\n",
    "for xesti in kdeEstimateyX:\n",
    "    ykernel, xkyk = gkernel(xesti, dist_regular, time_regular)\n",
    "    ykernel = np.append(ykernel,xkyk, axis=1)\n",
    "\n",
    "## Plotting\n",
    "\n",
    "plt.plot(dist_regular, time_regular, 'o')\n",
    "plt.plot(ykernel[0], ykernel[1])\n",
    "\n",
    "plt.xlabel(\"Distance (m)\") # in meters\n",
    "plt.ylabel(\"Time (min)\") # in minutes\n",
    "\n",
    "plt.xlim(0,30000)\n",
    "plt.ylim(0,70)\n",
    "\n",
    "plt.show"
   ]
  },
  {
   "cell_type": "code",
   "execution_count": 70,
   "id": "b27eff06",
   "metadata": {},
   "outputs": [
    {
     "name": "stdout",
     "output_type": "stream",
     "text": [
      "[[8000.        ]\n",
      " [  36.04143342]]\n"
     ]
    }
   ],
   "source": [
    "xesti = 8000\n",
    "ykernel = np.array([[],[]])\n",
    "\n",
    "ykernel, xkyk = gkernel(xesti, dist_regular, time_regular)\n",
    "print(xkyk)"
   ]
  },
  {
   "cell_type": "code",
   "execution_count": null,
   "id": "cdd0b994",
   "metadata": {},
   "outputs": [],
   "source": [
    "## AM Peak Period\n",
    "\n",
    "kdeEstimateyX = np.arange(0, 10000, 10)\n",
    "ykernel = np.array([[],[]])\n",
    "\n",
    "for xesti in kdeEstimateyX:\n",
    "    ykernel, xkyk = gkernel(xesti, dist_AMpeak, time_AMpeak)\n",
    "    ykernel = np.append(ykernel,xkyk, axis=1)\n",
    "\n",
    "## Plotting\n",
    "\n",
    "plt.plot(dist_AMpeak, time_AMpeak, 'o')\n",
    "plt.plot(ykernel[0], ykernel[1])\n",
    "\n",
    "plt.xlabel(\"Distance (m)\") # in meters\n",
    "plt.ylabel(\"Time (min)\") # in minutes\n",
    "\n",
    "#plt.xlim(0,10000)\n",
    "#plt.ylim(0,50)\n",
    "\n",
    "plt.show"
   ]
  },
  {
   "cell_type": "code",
   "execution_count": null,
   "id": "8f30d515",
   "metadata": {
    "collapsed": true
   },
   "outputs": [],
   "source": [
    "## PM Peak Period\n",
    "\n",
    "kdeEstimateyX = np.arange(0, 6000, 10)\n",
    "ykernel = np.array([[],[]])\n",
    "\n",
    "for xesti in kdeEstimateyX:\n",
    "    ykernel, xkyk = gkernel(xesti, dist_PMpeak, time_PMpeak)\n",
    "    ykernel = np.append(ykernel,xkyk, axis=1)\n",
    "\n",
    "## Plotting\n",
    "\n",
    "plt.plot(dist_PMpeak, time_PMpeak, 'o')\n",
    "plt.plot(ykernel[0], ykernel[1])\n",
    "\n",
    "plt.xlabel(\"Distance (m)\") # in meters\n",
    "plt.ylabel(\"Time (min)\") # in minutes\n",
    "\n",
    "plt.xlim(0,6000)\n",
    "plt.ylim(0,30)\n",
    "\n",
    "plt.show"
   ]
  },
  {
   "cell_type": "code",
   "execution_count": null,
   "id": "50340153",
   "metadata": {
    "collapsed": true
   },
   "outputs": [],
   "source": []
  }
 ],
 "metadata": {
  "kernelspec": {
   "display_name": "Python 3 (ipykernel)",
   "language": "python",
   "name": "python3"
  },
  "language_info": {
   "codemirror_mode": {
    "name": "ipython",
    "version": 3
   },
   "file_extension": ".py",
   "mimetype": "text/x-python",
   "name": "python",
   "nbconvert_exporter": "python",
   "pygments_lexer": "ipython3",
   "version": "3.10.9"
  }
 },
 "nbformat": 4,
 "nbformat_minor": 5
}
